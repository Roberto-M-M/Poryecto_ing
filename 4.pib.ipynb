{
 "cells": [
  {
   "cell_type": "code",
   "execution_count": 2,
   "id": "12fca03c-f72a-490d-aea9-c6895f69dc38",
   "metadata": {},
   "outputs": [
    {
     "data": {
      "text/html": [
       "<div>\n",
       "<style scoped>\n",
       "    .dataframe tbody tr th:only-of-type {\n",
       "        vertical-align: middle;\n",
       "    }\n",
       "\n",
       "    .dataframe tbody tr th {\n",
       "        vertical-align: top;\n",
       "    }\n",
       "\n",
       "    .dataframe thead th {\n",
       "        text-align: right;\n",
       "    }\n",
       "</style>\n",
       "<table border=\"1\" class=\"dataframe\">\n",
       "  <thead>\n",
       "    <tr style=\"text-align: right;\">\n",
       "      <th></th>\n",
       "      <th>Entity</th>\n",
       "      <th>Code</th>\n",
       "      <th>Year</th>\n",
       "      <th>GDP, PPP (constant 2017 international $)</th>\n",
       "    </tr>\n",
       "  </thead>\n",
       "  <tbody>\n",
       "    <tr>\n",
       "      <th>0</th>\n",
       "      <td>Afghanistan</td>\n",
       "      <td>AFG</td>\n",
       "      <td>2002</td>\n",
       "      <td>26890054000</td>\n",
       "    </tr>\n",
       "    <tr>\n",
       "      <th>1</th>\n",
       "      <td>Afghanistan</td>\n",
       "      <td>AFG</td>\n",
       "      <td>2003</td>\n",
       "      <td>29265058000</td>\n",
       "    </tr>\n",
       "    <tr>\n",
       "      <th>2</th>\n",
       "      <td>Afghanistan</td>\n",
       "      <td>AFG</td>\n",
       "      <td>2004</td>\n",
       "      <td>29678901000</td>\n",
       "    </tr>\n",
       "    <tr>\n",
       "      <th>3</th>\n",
       "      <td>Afghanistan</td>\n",
       "      <td>AFG</td>\n",
       "      <td>2005</td>\n",
       "      <td>33011757000</td>\n",
       "    </tr>\n",
       "    <tr>\n",
       "      <th>4</th>\n",
       "      <td>Afghanistan</td>\n",
       "      <td>AFG</td>\n",
       "      <td>2006</td>\n",
       "      <td>34780330000</td>\n",
       "    </tr>\n",
       "    <tr>\n",
       "      <th>...</th>\n",
       "      <td>...</td>\n",
       "      <td>...</td>\n",
       "      <td>...</td>\n",
       "      <td>...</td>\n",
       "    </tr>\n",
       "    <tr>\n",
       "      <th>6341</th>\n",
       "      <td>Zimbabwe</td>\n",
       "      <td>ZWE</td>\n",
       "      <td>2017</td>\n",
       "      <td>34396336000</td>\n",
       "    </tr>\n",
       "    <tr>\n",
       "      <th>6342</th>\n",
       "      <td>Zimbabwe</td>\n",
       "      <td>ZWE</td>\n",
       "      <td>2018</td>\n",
       "      <td>36119544000</td>\n",
       "    </tr>\n",
       "    <tr>\n",
       "      <th>6343</th>\n",
       "      <td>Zimbabwe</td>\n",
       "      <td>ZWE</td>\n",
       "      <td>2019</td>\n",
       "      <td>33832294000</td>\n",
       "    </tr>\n",
       "    <tr>\n",
       "      <th>6344</th>\n",
       "      <td>Zimbabwe</td>\n",
       "      <td>ZWE</td>\n",
       "      <td>2020</td>\n",
       "      <td>31187640000</td>\n",
       "    </tr>\n",
       "    <tr>\n",
       "      <th>6345</th>\n",
       "      <td>Zimbabwe</td>\n",
       "      <td>ZWE</td>\n",
       "      <td>2021</td>\n",
       "      <td>33828616000</td>\n",
       "    </tr>\n",
       "  </tbody>\n",
       "</table>\n",
       "<p>6346 rows × 4 columns</p>\n",
       "</div>"
      ],
      "text/plain": [
       "           Entity Code  Year  GDP, PPP (constant 2017 international $)\n",
       "0     Afghanistan  AFG  2002                               26890054000\n",
       "1     Afghanistan  AFG  2003                               29265058000\n",
       "2     Afghanistan  AFG  2004                               29678901000\n",
       "3     Afghanistan  AFG  2005                               33011757000\n",
       "4     Afghanistan  AFG  2006                               34780330000\n",
       "...           ...  ...   ...                                       ...\n",
       "6341     Zimbabwe  ZWE  2017                               34396336000\n",
       "6342     Zimbabwe  ZWE  2018                               36119544000\n",
       "6343     Zimbabwe  ZWE  2019                               33832294000\n",
       "6344     Zimbabwe  ZWE  2020                               31187640000\n",
       "6345     Zimbabwe  ZWE  2021                               33828616000\n",
       "\n",
       "[6346 rows x 4 columns]"
      ]
     },
     "execution_count": 2,
     "metadata": {},
     "output_type": "execute_result"
    }
   ],
   "source": [
    "\n",
    "import pandas as pd\n",
    "url = \"https://raw.githubusercontent.com/Roberto-M-M/Poryecto_ing/main/4-%20national-gdp-wb.csv\"\n",
    "datos_csv = pd.read_csv(url, encoding='latin1')\n",
    "datos_csv"
   ]
  },
  {
   "cell_type": "code",
   "execution_count": 3,
   "id": "9ef9108d-c3ab-4652-a753-2a307d65cde1",
   "metadata": {},
   "outputs": [
    {
     "data": {
      "text/plain": [
       "Entity                                      object\n",
       "Code                                        object\n",
       "Year                                         int64\n",
       "GDP, PPP (constant 2017 international $)     int64\n",
       "dtype: object"
      ]
     },
     "execution_count": 3,
     "metadata": {},
     "output_type": "execute_result"
    }
   ],
   "source": [
    "datos_csv.dtypes"
   ]
  },
  {
   "cell_type": "code",
   "execution_count": 6,
   "id": "6294c250-52c1-41c5-bf6a-28b48c9af303",
   "metadata": {},
   "outputs": [
    {
     "data": {
      "text/plain": [
       "Entity                                        0\n",
       "Code                                        444\n",
       "Year                                          0\n",
       "GDP, PPP (constant 2017 international $)      0\n",
       "dtype: int64"
      ]
     },
     "execution_count": 6,
     "metadata": {},
     "output_type": "execute_result"
    }
   ],
   "source": [
    "datos_csv.isna().sum()"
   ]
  },
  {
   "cell_type": "code",
   "execution_count": 7,
   "id": "77415104-e19a-4f1f-bc1b-31e9e246dc67",
   "metadata": {},
   "outputs": [
    {
     "data": {
      "text/plain": [
       "Entity                                       208\n",
       "Code                                         194\n",
       "Year                                          32\n",
       "GDP, PPP (constant 2017 international $)    6332\n",
       "dtype: int64"
      ]
     },
     "execution_count": 7,
     "metadata": {},
     "output_type": "execute_result"
    }
   ],
   "source": [
    "datos_csv.nunique()"
   ]
  },
  {
   "cell_type": "code",
   "execution_count": 10,
   "id": "b84373ab-ed54-4be4-bb7a-fbffcf7c6e89",
   "metadata": {},
   "outputs": [
    {
     "name": "stdout",
     "output_type": "stream",
     "text": [
      "6346\n"
     ]
    },
    {
     "data": {
      "text/plain": [
       "Entity       GDP, PPP (constant 2017 international $)\n",
       "Tuvalu       38378296                                    3\n",
       "             33581010                                    3\n",
       "Nauru        145591420                                   3\n",
       "El Salvador  44387557000                                 2\n",
       "Tuvalu       35979652                                    2\n",
       "                                                        ..\n",
       "Georgia      53472494000                                 1\n",
       "             53116027000                                 1\n",
       "             51992666000                                 1\n",
       "             50662480000                                 1\n",
       "Zimbabwe     36119544000                                 1\n",
       "Length: 6332, dtype: int64"
      ]
     },
     "execution_count": 10,
     "metadata": {},
     "output_type": "execute_result"
    }
   ],
   "source": [
    "print(len(datos_csv))\n",
    "datos_csv.groupby(by = ['Entity','GDP, PPP (constant 2017 international $)']).size().sort_values(ascending =False)"
   ]
  },
  {
   "cell_type": "code",
   "execution_count": null,
   "id": "01ce080b-1574-4ee2-bda8-9c2f5956522e",
   "metadata": {},
   "outputs": [],
   "source": []
  }
 ],
 "metadata": {
  "kernelspec": {
   "display_name": "Python 3 (ipykernel)",
   "language": "python",
   "name": "python3"
  },
  "language_info": {
   "codemirror_mode": {
    "name": "ipython",
    "version": 3
   },
   "file_extension": ".py",
   "mimetype": "text/x-python",
   "name": "python",
   "nbconvert_exporter": "python",
   "pygments_lexer": "ipython3",
   "version": "3.11.7"
  }
 },
 "nbformat": 4,
 "nbformat_minor": 5
}
